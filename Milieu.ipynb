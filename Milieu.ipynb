{
 "cells": [
  {
   "cell_type": "code",
   "execution_count": 14,
   "id": "1d969159-0215-425e-a76a-33ac077a3a94",
   "metadata": {},
   "outputs": [],
   "source": [
    "import pandas as pd\n",
    "import numpy as np\n",
    "\n",
    "raw_data = pd.read_csv(r\"C:\\Users\\piazz\\Documents\\ProjetFootPlayer\\FootballPlayerStats.csv\", sep = ';', encoding = 'ISO-8859-1')\n",
    "pd.set_option('display.max_columns', None)\n",
    "football_stats = raw_data.copy()\n",
    "\n",
    "df_football_stats = pd.DataFrame()\n",
    "\n",
    "df_football_stats['Player'] = football_stats['Player']\n",
    "df_football_stats['Nation'] = football_stats['Nation']\n",
    "df_football_stats['Pos'] = football_stats['Pos']\n",
    "df_football_stats['Squad'] = football_stats['Squad']\n",
    "df_football_stats['Comp'] = football_stats['Comp']\n",
    "df_football_stats['Age'] = football_stats['Age']\n",
    "df_football_stats['MP'] = football_stats['MP']\n",
    "df_football_stats['G/90'] = football_stats['Goals']\n",
    "df_football_stats['G/Sh'] = football_stats['G/Sh']\n",
    "df_football_stats['G/SoT'] = football_stats['G/SoT']\n",
    "df_football_stats['PKGoals'] = ((football_stats['ShoPK'] * football_stats['Min']) / 90).round(0).astype(int)\n",
    "df_football_stats['PKAttempted'] = ((football_stats['PKatt'] * football_stats['Min']) / 90).round(0).astype(int)\n",
    "df_football_stats['Goals'] = ((football_stats['Goals'] * football_stats['Min']) / 90).round(0).astype(int)\n",
    "df_football_stats['Pass'] = ((football_stats['PasTotAtt'] * football_stats['Min']) / 90).round(0).astype(int)\n",
    "df_football_stats['PassCompleted'] = ((football_stats['PasTotCmp'] * football_stats['Min']) / 90).round(0).astype(int)\n",
    "df_football_stats['PassComp%'] = ((df_football_stats['PassCompleted'] / df_football_stats['Pass']) * 100).round(2)\n",
    "df_football_stats['PasShoCmp%'] = football_stats['PasShoCmp%']\n",
    "df_football_stats['PasMedCmp%'] = football_stats['PasMedCmp%']\n",
    "df_football_stats['PasLonCmp%'] = football_stats['PasLonCmp%']\n",
    "df_football_stats['Assist'] = ((football_stats['Assists'] * football_stats['Min']) / 90).round(0).astype(int)\n",
    "df_football_stats['Cross'] = ((football_stats['PasCrs'] * football_stats['Min']) / 90).round(0).astype(int)\n",
    "df_football_stats['CrossCompleted'] = ((football_stats['CrsPA'] * football_stats['Min']) / 90).round(0).astype(int)\n",
    "df_football_stats['CrossComp%'] = ((df_football_stats['CrossCompleted'] / df_football_stats['Cross']) * 100).round(2)\n",
    "df_football_stats['Tackle_Won'] = ((football_stats['TklWon'] * football_stats['Min']) / 90).round(0).astype(int)\n",
    "df_football_stats['Tackle'] = ((football_stats['Tkl'] * football_stats['Min']) / 90).round(0).astype(int)\n",
    "df_football_stats['Tackle_Won%'] = ((df_football_stats['Tackle_Won'] / df_football_stats['Tackle']) * 100).round(2)\n",
    "df_football_stats['SucDribble'] = ((football_stats['DriSucc'] * football_stats['Min']) / 90).round(0).astype(int)\n",
    "df_football_stats['Dribble'] = ((football_stats['DriAtt'] * football_stats['Min']) / 90).round(0).astype(int)\n",
    "df_football_stats['DribbleComp%'] = ((df_football_stats['SucDribble'] / df_football_stats['Dribble']) * 100).round(2)\n",
    "df_football_stats['DribblePast%'] = ((football_stats['DriPast'] / df_football_stats['Dribble']) * 100).round(2)\n",
    "df_football_stats['YCards'] = ((football_stats['CrdY'] * football_stats['Min']) / 90).round(0).astype(int)\n",
    "df_football_stats['RCards'] = ((football_stats['CrdR'] * football_stats['Min']) / 90).round(0).astype(int)\n",
    "df_football_stats['Fls'] = ((football_stats['Fls'] * football_stats['Min']) / 90).round(0).astype(int)\n",
    "df_football_stats['Fld'] = ((football_stats['Fld'] * football_stats['Min']) / 90).round(0).astype(int)\n",
    "df_football_stats['OGoals'] = ((football_stats['OG'] * football_stats['Min']) / 90).round(0).astype(int)\n",
    "df_football_stats['AerWon'] = ((football_stats['AerWon'] * football_stats['Min']) / 90).round(0).astype(int)\n",
    "df_football_stats['AerLost'] = ((football_stats['AerLost'] * football_stats['Min']) / 90).round(0).astype(int)\n",
    "df_football_stats['AerWon%'] = ((football_stats['AerWon'] / (football_stats['AerWon'] + football_stats['AerLost'])) * 100).round(2)\n",
    "df_football_stats['AerLost%'] = ((football_stats['AerLost'] * football_stats['AerLost']) / 90).round(0).astype(int)\n",
    "df_football_stats['PasswHead'] = ((football_stats['PaswHead'] * football_stats['Min']) / 90).round(0).astype(int)\n",
    "df_football_stats['PasswHead%'] = ((df_football_stats['PasswHead'] / df_football_stats['Pass']) * 100).round(2)\n",
    "df_football_stats['PKwon'] = football_stats['PKwon']\n",
    "\n",
    "df_football_stats['Blocks'] = football_stats['Blocks']\n",
    "df_football_stats['BlkSh'] = football_stats['BlkSh']\n",
    "df_football_stats['BlkShSv'] = football_stats['BlkShSv']\n"
   ]
  },
  {
   "cell_type": "code",
   "execution_count": 15,
   "id": "24ffb911-a63b-453c-ac2f-86ef0a87043a",
   "metadata": {},
   "outputs": [],
   "source": [
    "## Data Milieu :\n",
    "atq = df_football_stats[(df_football_stats.Pos.str.startswith('MF'))]"
   ]
  },
  {
   "cell_type": "code",
   "execution_count": 16,
   "id": "6b8d6078-768a-4400-9f9d-70ede2d0cf5a",
   "metadata": {},
   "outputs": [
    {
     "data": {
      "text/html": [
       "<div>\n",
       "<style scoped>\n",
       "    .dataframe tbody tr th:only-of-type {\n",
       "        vertical-align: middle;\n",
       "    }\n",
       "\n",
       "    .dataframe tbody tr th {\n",
       "        vertical-align: top;\n",
       "    }\n",
       "\n",
       "    .dataframe thead th {\n",
       "        text-align: right;\n",
       "    }\n",
       "</style>\n",
       "<table border=\"1\" class=\"dataframe\">\n",
       "  <thead>\n",
       "    <tr style=\"text-align: right;\">\n",
       "      <th></th>\n",
       "      <th>Player</th>\n",
       "      <th>Nation</th>\n",
       "      <th>Pos</th>\n",
       "      <th>Squad</th>\n",
       "      <th>Comp</th>\n",
       "      <th>Age</th>\n",
       "      <th>MP</th>\n",
       "      <th>G/90</th>\n",
       "      <th>G/Sh</th>\n",
       "      <th>G/SoT</th>\n",
       "      <th>PKGoals</th>\n",
       "      <th>PKAttempted</th>\n",
       "      <th>Goals</th>\n",
       "      <th>Pass</th>\n",
       "      <th>PassCompleted</th>\n",
       "      <th>PassComp%</th>\n",
       "      <th>PasShoCmp%</th>\n",
       "      <th>PasMedCmp%</th>\n",
       "      <th>PasLonCmp%</th>\n",
       "      <th>Assist</th>\n",
       "      <th>Cross</th>\n",
       "      <th>CrossCompleted</th>\n",
       "      <th>CrossComp%</th>\n",
       "      <th>Tackle_Won</th>\n",
       "      <th>Tackle</th>\n",
       "      <th>Tackle_Won%</th>\n",
       "      <th>SucDribble</th>\n",
       "      <th>Dribble</th>\n",
       "      <th>DribbleComp%</th>\n",
       "      <th>DribblePast%</th>\n",
       "      <th>YCards</th>\n",
       "      <th>RCards</th>\n",
       "      <th>Fls</th>\n",
       "      <th>Fld</th>\n",
       "      <th>OGoals</th>\n",
       "      <th>AerWon</th>\n",
       "      <th>AerLost</th>\n",
       "      <th>AerWon%</th>\n",
       "      <th>AerLost%</th>\n",
       "      <th>PasswHead</th>\n",
       "      <th>PasswHead%</th>\n",
       "      <th>PKwon</th>\n",
       "      <th>Blocks</th>\n",
       "      <th>BlkSh</th>\n",
       "      <th>BlkShSv</th>\n",
       "    </tr>\n",
       "  </thead>\n",
       "  <tbody>\n",
       "    <tr>\n",
       "      <th>2</th>\n",
       "      <td>Salis Abdul Samed</td>\n",
       "      <td>GHA</td>\n",
       "      <td>MF</td>\n",
       "      <td>Clermont Foot</td>\n",
       "      <td>Ligue 1</td>\n",
       "      <td>22.0</td>\n",
       "      <td>31</td>\n",
       "      <td>0.04</td>\n",
       "      <td>0.06</td>\n",
       "      <td>0.20</td>\n",
       "      <td>0</td>\n",
       "      <td>0</td>\n",
       "      <td>1</td>\n",
       "      <td>1669</td>\n",
       "      <td>1529</td>\n",
       "      <td>91.61</td>\n",
       "      <td>93.5</td>\n",
       "      <td>94.9</td>\n",
       "      <td>86.0</td>\n",
       "      <td>0</td>\n",
       "      <td>10</td>\n",
       "      <td>1</td>\n",
       "      <td>10.00</td>\n",
       "      <td>34</td>\n",
       "      <td>55</td>\n",
       "      <td>61.82</td>\n",
       "      <td>27</td>\n",
       "      <td>42</td>\n",
       "      <td>64.29</td>\n",
       "      <td>2.60</td>\n",
       "      <td>12</td>\n",
       "      <td>3</td>\n",
       "      <td>45</td>\n",
       "      <td>35</td>\n",
       "      <td>0</td>\n",
       "      <td>24</td>\n",
       "      <td>24</td>\n",
       "      <td>50.00</td>\n",
       "      <td>0</td>\n",
       "      <td>52</td>\n",
       "      <td>3.12</td>\n",
       "      <td>0.0</td>\n",
       "      <td>0.99</td>\n",
       "      <td>0.04</td>\n",
       "      <td>0.0</td>\n",
       "    </tr>\n",
       "    <tr>\n",
       "      <th>3</th>\n",
       "      <td>Laurent Abergel</td>\n",
       "      <td>FRA</td>\n",
       "      <td>MF</td>\n",
       "      <td>Lorient</td>\n",
       "      <td>Ligue 1</td>\n",
       "      <td>29.0</td>\n",
       "      <td>34</td>\n",
       "      <td>0.00</td>\n",
       "      <td>0.00</td>\n",
       "      <td>0.00</td>\n",
       "      <td>0</td>\n",
       "      <td>0</td>\n",
       "      <td>0</td>\n",
       "      <td>1636</td>\n",
       "      <td>1337</td>\n",
       "      <td>81.72</td>\n",
       "      <td>88.6</td>\n",
       "      <td>87.9</td>\n",
       "      <td>66.6</td>\n",
       "      <td>2</td>\n",
       "      <td>26</td>\n",
       "      <td>6</td>\n",
       "      <td>23.08</td>\n",
       "      <td>73</td>\n",
       "      <td>117</td>\n",
       "      <td>62.39</td>\n",
       "      <td>42</td>\n",
       "      <td>65</td>\n",
       "      <td>64.62</td>\n",
       "      <td>2.06</td>\n",
       "      <td>9</td>\n",
       "      <td>0</td>\n",
       "      <td>46</td>\n",
       "      <td>68</td>\n",
       "      <td>0</td>\n",
       "      <td>14</td>\n",
       "      <td>14</td>\n",
       "      <td>50.00</td>\n",
       "      <td>0</td>\n",
       "      <td>24</td>\n",
       "      <td>1.47</td>\n",
       "      <td>0.0</td>\n",
       "      <td>1.68</td>\n",
       "      <td>0.09</td>\n",
       "      <td>0.0</td>\n",
       "    </tr>\n",
       "    <tr>\n",
       "      <th>10</th>\n",
       "      <td>Ragnar Ache</td>\n",
       "      <td>GER</td>\n",
       "      <td>MFFW</td>\n",
       "      <td>Eint Frankfurt</td>\n",
       "      <td>Bundesliga</td>\n",
       "      <td>23.0</td>\n",
       "      <td>13</td>\n",
       "      <td>0.00</td>\n",
       "      <td>0.00</td>\n",
       "      <td>0.00</td>\n",
       "      <td>0</td>\n",
       "      <td>0</td>\n",
       "      <td>0</td>\n",
       "      <td>71</td>\n",
       "      <td>42</td>\n",
       "      <td>59.15</td>\n",
       "      <td>62.9</td>\n",
       "      <td>63.0</td>\n",
       "      <td>33.3</td>\n",
       "      <td>1</td>\n",
       "      <td>6</td>\n",
       "      <td>2</td>\n",
       "      <td>33.33</td>\n",
       "      <td>2</td>\n",
       "      <td>2</td>\n",
       "      <td>100.00</td>\n",
       "      <td>4</td>\n",
       "      <td>8</td>\n",
       "      <td>50.00</td>\n",
       "      <td>21.50</td>\n",
       "      <td>0</td>\n",
       "      <td>0</td>\n",
       "      <td>6</td>\n",
       "      <td>8</td>\n",
       "      <td>0</td>\n",
       "      <td>20</td>\n",
       "      <td>11</td>\n",
       "      <td>64.55</td>\n",
       "      <td>0</td>\n",
       "      <td>5</td>\n",
       "      <td>7.04</td>\n",
       "      <td>0.0</td>\n",
       "      <td>1.03</td>\n",
       "      <td>0.00</td>\n",
       "      <td>0.0</td>\n",
       "    </tr>\n",
       "    <tr>\n",
       "      <th>11</th>\n",
       "      <td>Mohamed Achi</td>\n",
       "      <td>FRA</td>\n",
       "      <td>MF</td>\n",
       "      <td>Nantes</td>\n",
       "      <td>Ligue 1</td>\n",
       "      <td>20.0</td>\n",
       "      <td>1</td>\n",
       "      <td>0.00</td>\n",
       "      <td>0.00</td>\n",
       "      <td>0.00</td>\n",
       "      <td>0</td>\n",
       "      <td>0</td>\n",
       "      <td>0</td>\n",
       "      <td>6</td>\n",
       "      <td>3</td>\n",
       "      <td>50.00</td>\n",
       "      <td>100.0</td>\n",
       "      <td>100.0</td>\n",
       "      <td>0.0</td>\n",
       "      <td>0</td>\n",
       "      <td>0</td>\n",
       "      <td>0</td>\n",
       "      <td>NaN</td>\n",
       "      <td>1</td>\n",
       "      <td>1</td>\n",
       "      <td>100.00</td>\n",
       "      <td>0</td>\n",
       "      <td>0</td>\n",
       "      <td>NaN</td>\n",
       "      <td>NaN</td>\n",
       "      <td>0</td>\n",
       "      <td>0</td>\n",
       "      <td>0</td>\n",
       "      <td>0</td>\n",
       "      <td>0</td>\n",
       "      <td>0</td>\n",
       "      <td>0</td>\n",
       "      <td>NaN</td>\n",
       "      <td>0</td>\n",
       "      <td>0</td>\n",
       "      <td>0.00</td>\n",
       "      <td>0.0</td>\n",
       "      <td>0.00</td>\n",
       "      <td>0.00</td>\n",
       "      <td>0.0</td>\n",
       "    </tr>\n",
       "    <tr>\n",
       "      <th>14</th>\n",
       "      <td>Tyler Adams</td>\n",
       "      <td>USA</td>\n",
       "      <td>MF</td>\n",
       "      <td>RB Leipzig</td>\n",
       "      <td>Bundesliga</td>\n",
       "      <td>23.0</td>\n",
       "      <td>24</td>\n",
       "      <td>0.00</td>\n",
       "      <td>0.00</td>\n",
       "      <td>0.00</td>\n",
       "      <td>0</td>\n",
       "      <td>0</td>\n",
       "      <td>0</td>\n",
       "      <td>914</td>\n",
       "      <td>793</td>\n",
       "      <td>86.76</td>\n",
       "      <td>91.3</td>\n",
       "      <td>89.8</td>\n",
       "      <td>72.3</td>\n",
       "      <td>1</td>\n",
       "      <td>3</td>\n",
       "      <td>0</td>\n",
       "      <td>0.00</td>\n",
       "      <td>16</td>\n",
       "      <td>26</td>\n",
       "      <td>61.54</td>\n",
       "      <td>10</td>\n",
       "      <td>17</td>\n",
       "      <td>58.82</td>\n",
       "      <td>3.94</td>\n",
       "      <td>5</td>\n",
       "      <td>0</td>\n",
       "      <td>20</td>\n",
       "      <td>18</td>\n",
       "      <td>0</td>\n",
       "      <td>23</td>\n",
       "      <td>12</td>\n",
       "      <td>65.67</td>\n",
       "      <td>0</td>\n",
       "      <td>43</td>\n",
       "      <td>4.70</td>\n",
       "      <td>0.0</td>\n",
       "      <td>2.13</td>\n",
       "      <td>0.07</td>\n",
       "      <td>0.0</td>\n",
       "    </tr>\n",
       "    <tr>\n",
       "      <th>16</th>\n",
       "      <td>Martin Adeline</td>\n",
       "      <td>FRA</td>\n",
       "      <td>MFFW</td>\n",
       "      <td>Reims</td>\n",
       "      <td>Ligue 1</td>\n",
       "      <td>18.0</td>\n",
       "      <td>8</td>\n",
       "      <td>0.00</td>\n",
       "      <td>0.00</td>\n",
       "      <td>0.00</td>\n",
       "      <td>0</td>\n",
       "      <td>0</td>\n",
       "      <td>0</td>\n",
       "      <td>146</td>\n",
       "      <td>107</td>\n",
       "      <td>73.29</td>\n",
       "      <td>80.0</td>\n",
       "      <td>80.0</td>\n",
       "      <td>60.0</td>\n",
       "      <td>0</td>\n",
       "      <td>2</td>\n",
       "      <td>0</td>\n",
       "      <td>0.00</td>\n",
       "      <td>12</td>\n",
       "      <td>14</td>\n",
       "      <td>85.71</td>\n",
       "      <td>3</td>\n",
       "      <td>5</td>\n",
       "      <td>60.00</td>\n",
       "      <td>15.40</td>\n",
       "      <td>1</td>\n",
       "      <td>0</td>\n",
       "      <td>16</td>\n",
       "      <td>2</td>\n",
       "      <td>0</td>\n",
       "      <td>2</td>\n",
       "      <td>8</td>\n",
       "      <td>19.92</td>\n",
       "      <td>0</td>\n",
       "      <td>3</td>\n",
       "      <td>2.05</td>\n",
       "      <td>0.0</td>\n",
       "      <td>1.03</td>\n",
       "      <td>0.00</td>\n",
       "      <td>0.0</td>\n",
       "    </tr>\n",
       "    <tr>\n",
       "      <th>18</th>\n",
       "      <td>Yacine Adli</td>\n",
       "      <td>FRA</td>\n",
       "      <td>MFFW</td>\n",
       "      <td>Bordeaux</td>\n",
       "      <td>Ligue 1</td>\n",
       "      <td>21.0</td>\n",
       "      <td>36</td>\n",
       "      <td>0.04</td>\n",
       "      <td>0.03</td>\n",
       "      <td>0.07</td>\n",
       "      <td>0</td>\n",
       "      <td>0</td>\n",
       "      <td>1</td>\n",
       "      <td>1238</td>\n",
       "      <td>912</td>\n",
       "      <td>73.67</td>\n",
       "      <td>84.5</td>\n",
       "      <td>81.5</td>\n",
       "      <td>56.8</td>\n",
       "      <td>7</td>\n",
       "      <td>39</td>\n",
       "      <td>4</td>\n",
       "      <td>10.26</td>\n",
       "      <td>34</td>\n",
       "      <td>48</td>\n",
       "      <td>70.83</td>\n",
       "      <td>44</td>\n",
       "      <td>79</td>\n",
       "      <td>55.70</td>\n",
       "      <td>2.42</td>\n",
       "      <td>5</td>\n",
       "      <td>0</td>\n",
       "      <td>27</td>\n",
       "      <td>33</td>\n",
       "      <td>0</td>\n",
       "      <td>24</td>\n",
       "      <td>20</td>\n",
       "      <td>54.55</td>\n",
       "      <td>0</td>\n",
       "      <td>23</td>\n",
       "      <td>1.86</td>\n",
       "      <td>0.0</td>\n",
       "      <td>1.63</td>\n",
       "      <td>0.12</td>\n",
       "      <td>0.0</td>\n",
       "    </tr>\n",
       "    <tr>\n",
       "      <th>19</th>\n",
       "      <td>Michel Aebischer</td>\n",
       "      <td>SUI</td>\n",
       "      <td>MF</td>\n",
       "      <td>Bologna</td>\n",
       "      <td>Serie A</td>\n",
       "      <td>25.0</td>\n",
       "      <td>12</td>\n",
       "      <td>0.00</td>\n",
       "      <td>0.00</td>\n",
       "      <td>0.00</td>\n",
       "      <td>0</td>\n",
       "      <td>0</td>\n",
       "      <td>0</td>\n",
       "      <td>244</td>\n",
       "      <td>217</td>\n",
       "      <td>88.93</td>\n",
       "      <td>95.4</td>\n",
       "      <td>90.3</td>\n",
       "      <td>66.7</td>\n",
       "      <td>0</td>\n",
       "      <td>2</td>\n",
       "      <td>1</td>\n",
       "      <td>50.00</td>\n",
       "      <td>8</td>\n",
       "      <td>15</td>\n",
       "      <td>53.33</td>\n",
       "      <td>1</td>\n",
       "      <td>3</td>\n",
       "      <td>33.33</td>\n",
       "      <td>6.67</td>\n",
       "      <td>1</td>\n",
       "      <td>0</td>\n",
       "      <td>14</td>\n",
       "      <td>4</td>\n",
       "      <td>0</td>\n",
       "      <td>6</td>\n",
       "      <td>8</td>\n",
       "      <td>42.81</td>\n",
       "      <td>0</td>\n",
       "      <td>6</td>\n",
       "      <td>2.46</td>\n",
       "      <td>0.0</td>\n",
       "      <td>1.02</td>\n",
       "      <td>0.00</td>\n",
       "      <td>0.0</td>\n",
       "    </tr>\n",
       "    <tr>\n",
       "      <th>23</th>\n",
       "      <td>Lucien Agoume</td>\n",
       "      <td>FRA</td>\n",
       "      <td>MF</td>\n",
       "      <td>Brest</td>\n",
       "      <td>Ligue 1</td>\n",
       "      <td>20.0</td>\n",
       "      <td>27</td>\n",
       "      <td>0.00</td>\n",
       "      <td>0.00</td>\n",
       "      <td>0.00</td>\n",
       "      <td>0</td>\n",
       "      <td>0</td>\n",
       "      <td>0</td>\n",
       "      <td>980</td>\n",
       "      <td>826</td>\n",
       "      <td>84.29</td>\n",
       "      <td>87.8</td>\n",
       "      <td>88.4</td>\n",
       "      <td>79.8</td>\n",
       "      <td>0</td>\n",
       "      <td>4</td>\n",
       "      <td>0</td>\n",
       "      <td>0.00</td>\n",
       "      <td>42</td>\n",
       "      <td>57</td>\n",
       "      <td>73.68</td>\n",
       "      <td>20</td>\n",
       "      <td>29</td>\n",
       "      <td>68.97</td>\n",
       "      <td>3.48</td>\n",
       "      <td>6</td>\n",
       "      <td>0</td>\n",
       "      <td>35</td>\n",
       "      <td>19</td>\n",
       "      <td>0</td>\n",
       "      <td>31</td>\n",
       "      <td>31</td>\n",
       "      <td>50.00</td>\n",
       "      <td>0</td>\n",
       "      <td>37</td>\n",
       "      <td>3.78</td>\n",
       "      <td>0.0</td>\n",
       "      <td>1.83</td>\n",
       "      <td>0.53</td>\n",
       "      <td>0.0</td>\n",
       "    </tr>\n",
       "    <tr>\n",
       "      <th>24</th>\n",
       "      <td>Kevin Agudelo</td>\n",
       "      <td>COL</td>\n",
       "      <td>MFFW</td>\n",
       "      <td>Spezia</td>\n",
       "      <td>Serie A</td>\n",
       "      <td>23.0</td>\n",
       "      <td>23</td>\n",
       "      <td>0.22</td>\n",
       "      <td>0.14</td>\n",
       "      <td>0.27</td>\n",
       "      <td>0</td>\n",
       "      <td>0</td>\n",
       "      <td>3</td>\n",
       "      <td>386</td>\n",
       "      <td>285</td>\n",
       "      <td>73.83</td>\n",
       "      <td>82.4</td>\n",
       "      <td>80.4</td>\n",
       "      <td>36.0</td>\n",
       "      <td>1</td>\n",
       "      <td>13</td>\n",
       "      <td>3</td>\n",
       "      <td>23.08</td>\n",
       "      <td>27</td>\n",
       "      <td>41</td>\n",
       "      <td>65.85</td>\n",
       "      <td>28</td>\n",
       "      <td>51</td>\n",
       "      <td>54.90</td>\n",
       "      <td>4.16</td>\n",
       "      <td>2</td>\n",
       "      <td>1</td>\n",
       "      <td>39</td>\n",
       "      <td>26</td>\n",
       "      <td>0</td>\n",
       "      <td>16</td>\n",
       "      <td>20</td>\n",
       "      <td>44.49</td>\n",
       "      <td>0</td>\n",
       "      <td>17</td>\n",
       "      <td>4.40</td>\n",
       "      <td>0.0</td>\n",
       "      <td>1.97</td>\n",
       "      <td>0.00</td>\n",
       "      <td>0.0</td>\n",
       "    </tr>\n",
       "  </tbody>\n",
       "</table>\n",
       "</div>"
      ],
      "text/plain": [
       "               Player Nation   Pos           Squad        Comp   Age  MP  \\\n",
       "2   Salis Abdul Samed    GHA    MF   Clermont Foot     Ligue 1  22.0  31   \n",
       "3     Laurent Abergel    FRA    MF         Lorient     Ligue 1  29.0  34   \n",
       "10        Ragnar Ache    GER  MFFW  Eint Frankfurt  Bundesliga  23.0  13   \n",
       "11       Mohamed Achi    FRA    MF          Nantes     Ligue 1  20.0   1   \n",
       "14        Tyler Adams    USA    MF      RB Leipzig  Bundesliga  23.0  24   \n",
       "16     Martin Adeline    FRA  MFFW           Reims     Ligue 1  18.0   8   \n",
       "18        Yacine Adli    FRA  MFFW        Bordeaux     Ligue 1  21.0  36   \n",
       "19   Michel Aebischer    SUI    MF         Bologna     Serie A  25.0  12   \n",
       "23      Lucien Agoume    FRA    MF           Brest     Ligue 1  20.0  27   \n",
       "24      Kevin Agudelo    COL  MFFW          Spezia     Serie A  23.0  23   \n",
       "\n",
       "    G/90  G/Sh  G/SoT  PKGoals  PKAttempted  Goals  Pass  PassCompleted  \\\n",
       "2   0.04  0.06   0.20        0            0      1  1669           1529   \n",
       "3   0.00  0.00   0.00        0            0      0  1636           1337   \n",
       "10  0.00  0.00   0.00        0            0      0    71             42   \n",
       "11  0.00  0.00   0.00        0            0      0     6              3   \n",
       "14  0.00  0.00   0.00        0            0      0   914            793   \n",
       "16  0.00  0.00   0.00        0            0      0   146            107   \n",
       "18  0.04  0.03   0.07        0            0      1  1238            912   \n",
       "19  0.00  0.00   0.00        0            0      0   244            217   \n",
       "23  0.00  0.00   0.00        0            0      0   980            826   \n",
       "24  0.22  0.14   0.27        0            0      3   386            285   \n",
       "\n",
       "    PassComp%  PasShoCmp%  PasMedCmp%  PasLonCmp%  Assist  Cross  \\\n",
       "2       91.61        93.5        94.9        86.0       0     10   \n",
       "3       81.72        88.6        87.9        66.6       2     26   \n",
       "10      59.15        62.9        63.0        33.3       1      6   \n",
       "11      50.00       100.0       100.0         0.0       0      0   \n",
       "14      86.76        91.3        89.8        72.3       1      3   \n",
       "16      73.29        80.0        80.0        60.0       0      2   \n",
       "18      73.67        84.5        81.5        56.8       7     39   \n",
       "19      88.93        95.4        90.3        66.7       0      2   \n",
       "23      84.29        87.8        88.4        79.8       0      4   \n",
       "24      73.83        82.4        80.4        36.0       1     13   \n",
       "\n",
       "    CrossCompleted  CrossComp%  Tackle_Won  Tackle  Tackle_Won%  SucDribble  \\\n",
       "2                1       10.00          34      55        61.82          27   \n",
       "3                6       23.08          73     117        62.39          42   \n",
       "10               2       33.33           2       2       100.00           4   \n",
       "11               0         NaN           1       1       100.00           0   \n",
       "14               0        0.00          16      26        61.54          10   \n",
       "16               0        0.00          12      14        85.71           3   \n",
       "18               4       10.26          34      48        70.83          44   \n",
       "19               1       50.00           8      15        53.33           1   \n",
       "23               0        0.00          42      57        73.68          20   \n",
       "24               3       23.08          27      41        65.85          28   \n",
       "\n",
       "    Dribble  DribbleComp%  DribblePast%  YCards  RCards  Fls  Fld  OGoals  \\\n",
       "2        42         64.29          2.60      12       3   45   35       0   \n",
       "3        65         64.62          2.06       9       0   46   68       0   \n",
       "10        8         50.00         21.50       0       0    6    8       0   \n",
       "11        0           NaN           NaN       0       0    0    0       0   \n",
       "14       17         58.82          3.94       5       0   20   18       0   \n",
       "16        5         60.00         15.40       1       0   16    2       0   \n",
       "18       79         55.70          2.42       5       0   27   33       0   \n",
       "19        3         33.33          6.67       1       0   14    4       0   \n",
       "23       29         68.97          3.48       6       0   35   19       0   \n",
       "24       51         54.90          4.16       2       1   39   26       0   \n",
       "\n",
       "    AerWon  AerLost  AerWon%  AerLost%  PasswHead  PasswHead%  PKwon  Blocks  \\\n",
       "2       24       24    50.00         0         52        3.12    0.0    0.99   \n",
       "3       14       14    50.00         0         24        1.47    0.0    1.68   \n",
       "10      20       11    64.55         0          5        7.04    0.0    1.03   \n",
       "11       0        0      NaN         0          0        0.00    0.0    0.00   \n",
       "14      23       12    65.67         0         43        4.70    0.0    2.13   \n",
       "16       2        8    19.92         0          3        2.05    0.0    1.03   \n",
       "18      24       20    54.55         0         23        1.86    0.0    1.63   \n",
       "19       6        8    42.81         0          6        2.46    0.0    1.02   \n",
       "23      31       31    50.00         0         37        3.78    0.0    1.83   \n",
       "24      16       20    44.49         0         17        4.40    0.0    1.97   \n",
       "\n",
       "    BlkSh  BlkShSv  \n",
       "2    0.04      0.0  \n",
       "3    0.09      0.0  \n",
       "10   0.00      0.0  \n",
       "11   0.00      0.0  \n",
       "14   0.07      0.0  \n",
       "16   0.00      0.0  \n",
       "18   0.12      0.0  \n",
       "19   0.00      0.0  \n",
       "23   0.53      0.0  \n",
       "24   0.00      0.0  "
      ]
     },
     "execution_count": 16,
     "metadata": {},
     "output_type": "execute_result"
    }
   ],
   "source": [
    "atq.head(10)"
   ]
  },
  {
   "cell_type": "code",
   "execution_count": 5,
   "id": "e0a4f703-2660-4f84-beb2-e7b1d71aa6c0",
   "metadata": {},
   "outputs": [
    {
     "name": "stderr",
     "output_type": "stream",
     "text": [
      "C:\\Users\\piazz\\anaconda3\\lib\\site-packages\\numpy\\lib\\function_base.py:4009: RuntimeWarning: invalid value encountered in subtract\n",
      "  diff_b_a = subtract(b, a)\n"
     ]
    }
   ],
   "source": [
    "liste_quantile_ButParTir = atq['G/Sh'].quantile(np.linspace(0, 1, 100))\n",
    "liste_quantile_ButParTirCadre = atq['G/SoT'].quantile(np.linspace(0, 1, 100))\n",
    "liste_quantile_ButPar90min = atq['G/90'].quantile(np.linspace(0, 1, 100))\n",
    "\n",
    "liste_quantile_Block = atq['Blocks'].quantile(np.linspace(0, 1, 100))\n",
    "liste_quantile_BlockTir = atq['BlkSh'].quantile(np.linspace(0, 1, 100))\n",
    "liste_quantile_BlockPasse = atq['BlkShSv'].quantile(np.linspace(0, 1, 100))\n",
    "\n",
    "liste_quantile_PassShortComp = atq['PasShoCmp%'].quantile(np.linspace(0, 1, 100))\n",
    "liste_quantile_PassMediumComp = atq['PasMedCmp%'].quantile(np.linspace(0, 1, 100))\n",
    "liste_quantile_PassLongComp = atq['PasLonCmp%'].quantile(np.linspace(0, 1, 100))\n",
    "\n",
    "liste_quantile_DribbleComp = atq['DribbleComp%'].quantile(np.linspace(0, 1, 100))\n",
    "liste_quantile_DribblePast = atq['DribblePast%'].quantile(np.linspace(0, 1, 100))"
   ]
  },
  {
   "cell_type": "code",
   "execution_count": 6,
   "id": "2f07313d-3d8c-46a1-8a10-bb6c38bf4733",
   "metadata": {},
   "outputs": [],
   "source": [
    "#Attribution des points\n",
    "def calc_quantile(value,liste_quantile):\n",
    "    for idx2, value_quantile in enumerate(liste_quantile):\n",
    "        if value < value_quantile:\n",
    "            return idx2\n",
    "    return 100"
   ]
  },
  {
   "cell_type": "code",
   "execution_count": 7,
   "id": "5f58e840-ace4-4483-bf2d-17b320a03a17",
   "metadata": {},
   "outputs": [
    {
     "name": "stderr",
     "output_type": "stream",
     "text": [
      "C:\\Users\\piazz\\AppData\\Local\\Temp\\ipykernel_6880\\4221416317.py:2: SettingWithCopyWarning: \n",
      "A value is trying to be set on a copy of a slice from a DataFrame.\n",
      "Try using .loc[row_indexer,col_indexer] = value instead\n",
      "\n",
      "See the caveats in the documentation: https://pandas.pydata.org/pandas-docs/stable/user_guide/indexing.html#returning-a-view-versus-a-copy\n",
      "  atq[\"but_par_tir\"] = atq['G/Sh'].apply(lambda row: calc_quantile(row, liste_quantile_ButParTir))\n",
      "C:\\Users\\piazz\\AppData\\Local\\Temp\\ipykernel_6880\\4221416317.py:3: SettingWithCopyWarning: \n",
      "A value is trying to be set on a copy of a slice from a DataFrame.\n",
      "Try using .loc[row_indexer,col_indexer] = value instead\n",
      "\n",
      "See the caveats in the documentation: https://pandas.pydata.org/pandas-docs/stable/user_guide/indexing.html#returning-a-view-versus-a-copy\n",
      "  atq[\"but_par_tir_cadre\"] = atq['G/SoT'].apply(lambda row: calc_quantile(row, liste_quantile_ButParTirCadre))\n",
      "C:\\Users\\piazz\\AppData\\Local\\Temp\\ipykernel_6880\\4221416317.py:4: SettingWithCopyWarning: \n",
      "A value is trying to be set on a copy of a slice from a DataFrame.\n",
      "Try using .loc[row_indexer,col_indexer] = value instead\n",
      "\n",
      "See the caveats in the documentation: https://pandas.pydata.org/pandas-docs/stable/user_guide/indexing.html#returning-a-view-versus-a-copy\n",
      "  atq[\"but_par_90min\"] = atq['G/90'].apply(lambda row: calc_quantile(row, liste_quantile_ButPar90min))\n",
      "C:\\Users\\piazz\\AppData\\Local\\Temp\\ipykernel_6880\\4221416317.py:15: SettingWithCopyWarning: \n",
      "A value is trying to be set on a copy of a slice from a DataFrame.\n",
      "Try using .loc[row_indexer,col_indexer] = value instead\n",
      "\n",
      "See the caveats in the documentation: https://pandas.pydata.org/pandas-docs/stable/user_guide/indexing.html#returning-a-view-versus-a-copy\n",
      "  atq[\"BlockPasse\"]=atq['BlkShSv'].apply(lambda row: calc_quantile(row,liste_quantile_BlockPasse))\n",
      "C:\\Users\\piazz\\AppData\\Local\\Temp\\ipykernel_6880\\4221416317.py:16: SettingWithCopyWarning: \n",
      "A value is trying to be set on a copy of a slice from a DataFrame.\n",
      "Try using .loc[row_indexer,col_indexer] = value instead\n",
      "\n",
      "See the caveats in the documentation: https://pandas.pydata.org/pandas-docs/stable/user_guide/indexing.html#returning-a-view-versus-a-copy\n",
      "  atq[\"BlockTir\"]=atq['BlkSh'].apply(lambda row: calc_quantile(row,liste_quantile_BlockTir))\n",
      "C:\\Users\\piazz\\AppData\\Local\\Temp\\ipykernel_6880\\4221416317.py:17: SettingWithCopyWarning: \n",
      "A value is trying to be set on a copy of a slice from a DataFrame.\n",
      "Try using .loc[row_indexer,col_indexer] = value instead\n",
      "\n",
      "See the caveats in the documentation: https://pandas.pydata.org/pandas-docs/stable/user_guide/indexing.html#returning-a-view-versus-a-copy\n",
      "  atq[\"Block\"]=atq['Blocks'].apply(lambda row: calc_quantile(row,liste_quantile_Block))\n",
      "C:\\Users\\piazz\\AppData\\Local\\Temp\\ipykernel_6880\\4221416317.py:28: SettingWithCopyWarning: \n",
      "A value is trying to be set on a copy of a slice from a DataFrame.\n",
      "Try using .loc[row_indexer,col_indexer] = value instead\n",
      "\n",
      "See the caveats in the documentation: https://pandas.pydata.org/pandas-docs/stable/user_guide/indexing.html#returning-a-view-versus-a-copy\n",
      "  atq[\"pass_short_comp\"]=atq['PasShoCmp%'].apply(lambda row: calc_quantile(row,liste_quantile_PassShortComp))\n",
      "C:\\Users\\piazz\\AppData\\Local\\Temp\\ipykernel_6880\\4221416317.py:29: SettingWithCopyWarning: \n",
      "A value is trying to be set on a copy of a slice from a DataFrame.\n",
      "Try using .loc[row_indexer,col_indexer] = value instead\n",
      "\n",
      "See the caveats in the documentation: https://pandas.pydata.org/pandas-docs/stable/user_guide/indexing.html#returning-a-view-versus-a-copy\n",
      "  atq[\"pass_medium_comp\"]=atq['PasMedCmp%'].apply(lambda row: calc_quantile(row,liste_quantile_PassMediumComp))\n",
      "C:\\Users\\piazz\\AppData\\Local\\Temp\\ipykernel_6880\\4221416317.py:30: SettingWithCopyWarning: \n",
      "A value is trying to be set on a copy of a slice from a DataFrame.\n",
      "Try using .loc[row_indexer,col_indexer] = value instead\n",
      "\n",
      "See the caveats in the documentation: https://pandas.pydata.org/pandas-docs/stable/user_guide/indexing.html#returning-a-view-versus-a-copy\n",
      "  atq[\"pass_long_comp\"]=atq['PasLonCmp%'].apply(lambda row: calc_quantile(row,liste_quantile_PassLongComp))\n",
      "C:\\Users\\piazz\\AppData\\Local\\Temp\\ipykernel_6880\\4221416317.py:41: SettingWithCopyWarning: \n",
      "A value is trying to be set on a copy of a slice from a DataFrame.\n",
      "Try using .loc[row_indexer,col_indexer] = value instead\n",
      "\n",
      "See the caveats in the documentation: https://pandas.pydata.org/pandas-docs/stable/user_guide/indexing.html#returning-a-view-versus-a-copy\n",
      "  atq[\"Dribbles_reussis\"]=atq['DribbleComp%'].apply(lambda row: calc_quantile(row,liste_quantile_DribbleComp))\n",
      "C:\\Users\\piazz\\AppData\\Local\\Temp\\ipykernel_6880\\4221416317.py:42: SettingWithCopyWarning: \n",
      "A value is trying to be set on a copy of a slice from a DataFrame.\n",
      "Try using .loc[row_indexer,col_indexer] = value instead\n",
      "\n",
      "See the caveats in the documentation: https://pandas.pydata.org/pandas-docs/stable/user_guide/indexing.html#returning-a-view-versus-a-copy\n",
      "  atq[\"Dribles_passes\"]=atq['DribblePast%'].apply(lambda row: calc_quantile(row,liste_quantile_DribblePast))\n",
      "C:\\Users\\piazz\\AppData\\Local\\Temp\\ipykernel_6880\\4221416317.py:52: SettingWithCopyWarning: \n",
      "A value is trying to be set on a copy of a slice from a DataFrame.\n",
      "Try using .loc[row_indexer,col_indexer] = value instead\n",
      "\n",
      "See the caveats in the documentation: https://pandas.pydata.org/pandas-docs/stable/user_guide/indexing.html#returning-a-view-versus-a-copy\n",
      "  atq[\"Tir\"]=atq.apply(calculate_score_atq_tir, axis=1)\n",
      "C:\\Users\\piazz\\AppData\\Local\\Temp\\ipykernel_6880\\4221416317.py:53: SettingWithCopyWarning: \n",
      "A value is trying to be set on a copy of a slice from a DataFrame.\n",
      "Try using .loc[row_indexer,col_indexer] = value instead\n",
      "\n",
      "See the caveats in the documentation: https://pandas.pydata.org/pandas-docs/stable/user_guide/indexing.html#returning-a-view-versus-a-copy\n",
      "  atq[\"Block\"]=atq.apply(calculate_score_atq_block, axis=1)\n",
      "C:\\Users\\piazz\\AppData\\Local\\Temp\\ipykernel_6880\\4221416317.py:54: SettingWithCopyWarning: \n",
      "A value is trying to be set on a copy of a slice from a DataFrame.\n",
      "Try using .loc[row_indexer,col_indexer] = value instead\n",
      "\n",
      "See the caveats in the documentation: https://pandas.pydata.org/pandas-docs/stable/user_guide/indexing.html#returning-a-view-versus-a-copy\n",
      "  atq[\"Passe\"]=atq.apply(calculate_score_atq_passe, axis=1)\n",
      "C:\\Users\\piazz\\AppData\\Local\\Temp\\ipykernel_6880\\4221416317.py:55: SettingWithCopyWarning: \n",
      "A value is trying to be set on a copy of a slice from a DataFrame.\n",
      "Try using .loc[row_indexer,col_indexer] = value instead\n",
      "\n",
      "See the caveats in the documentation: https://pandas.pydata.org/pandas-docs/stable/user_guide/indexing.html#returning-a-view-versus-a-copy\n",
      "  atq[\"Dribbles\"]=atq.apply(calculate_score_atq_dribble, axis=1)\n",
      "C:\\Users\\piazz\\AppData\\Local\\Temp\\ipykernel_6880\\4221416317.py:59: SettingWithCopyWarning: \n",
      "A value is trying to be set on a copy of a slice from a DataFrame.\n",
      "Try using .loc[row_indexer,col_indexer] = value instead\n",
      "\n",
      "See the caveats in the documentation: https://pandas.pydata.org/pandas-docs/stable/user_guide/indexing.html#returning-a-view-versus-a-copy\n",
      "  atq[\"Note Finale\"] = round((atq[[\"Tir\", \"Block\", \"Passe\", \"Dribbles\"]].mean(axis=1)))\n"
     ]
    }
   ],
   "source": [
    "##Calcul score tir\n",
    "atq[\"but_par_tir\"] = atq['G/Sh'].apply(lambda row: calc_quantile(row, liste_quantile_ButParTir))\n",
    "atq[\"but_par_tir_cadre\"] = atq['G/SoT'].apply(lambda row: calc_quantile(row, liste_quantile_ButParTirCadre))\n",
    "atq[\"but_par_90min\"] = atq['G/90'].apply(lambda row: calc_quantile(row, liste_quantile_ButPar90min))\n",
    "\n",
    "def calculate_score_atq_tir(row):\n",
    "    mp_coef = [0.5, 0.6, 0.7, 0.75, 0.85, 1]\n",
    "    mp_matchjoue = [10, 15, 20, 25, 30]\n",
    "    coef = next((mp_coef[i] for i, val in enumerate(mp_matchjoue) if row[\"MP\"] <= val), 1)\n",
    "    score = (row[\"but_par_tir_cadre\"] + row[\"but_par_tir\"] + row[\"but_par_90min\"]) / 3\n",
    "    return round(score * coef)\n",
    "\n",
    "##Calcul Score Block\n",
    "\n",
    "atq[\"BlockPasse\"]=atq['BlkShSv'].apply(lambda row: calc_quantile(row,liste_quantile_BlockPasse))\n",
    "atq[\"BlockTir\"]=atq['BlkSh'].apply(lambda row: calc_quantile(row,liste_quantile_BlockTir))\n",
    "atq[\"Block\"]=atq['Blocks'].apply(lambda row: calc_quantile(row,liste_quantile_Block))\n",
    "\n",
    "def calculate_score_atq_block(row):\n",
    "    mp_coef = [0.5, 0.6, 0.7, 0.75, 0.85, 1]\n",
    "    mp_matchjoue = [10, 15, 20, 25, 30]\n",
    "    coef = next((mp_coef[i] for i, val in enumerate(mp_matchjoue) if row[\"MP\"] <= val), 1)\n",
    "    score = (row[\"BlockPasse\"] + row[\"BlockTir\"] + row[\"Block\"]) / 3\n",
    "    return round(score * coef)\n",
    "\n",
    "##Calcul Score Passe\n",
    "\n",
    "atq[\"pass_short_comp\"]=atq['PasShoCmp%'].apply(lambda row: calc_quantile(row,liste_quantile_PassShortComp))\n",
    "atq[\"pass_medium_comp\"]=atq['PasMedCmp%'].apply(lambda row: calc_quantile(row,liste_quantile_PassMediumComp))\n",
    "atq[\"pass_long_comp\"]=atq['PasLonCmp%'].apply(lambda row: calc_quantile(row,liste_quantile_PassLongComp))\n",
    "\n",
    "def calculate_score_atq_passe(row):\n",
    "    mp_coef = [0.5, 0.6, 0.7, 0.75, 0.85, 1]\n",
    "    mp_matchjoue = [10, 15, 20, 25, 30]\n",
    "    coef = next((mp_coef[i] for i, val in enumerate(mp_matchjoue) if row[\"MP\"] <= val), 1)\n",
    "    score = (row[\"pass_short_comp\"] + row[\"pass_medium_comp\"] + row[\"pass_long_comp\"]) / 3\n",
    "    return round(score * coef)\n",
    "\n",
    "##Calcul score dribble\n",
    "\n",
    "atq[\"Dribbles_reussis\"]=atq['DribbleComp%'].apply(lambda row: calc_quantile(row,liste_quantile_DribbleComp))\n",
    "atq[\"Dribles_passes\"]=atq['DribblePast%'].apply(lambda row: calc_quantile(row,liste_quantile_DribblePast))\n",
    "\n",
    "def calculate_score_atq_dribble(row):\n",
    "    mp_coef = [0.5, 0.6, 0.7, 0.75, 0.85, 1]\n",
    "    mp_matchjoue = [10, 15, 20, 25, 30]\n",
    "    coef = next((mp_coef[i] for i, val in enumerate(mp_matchjoue) if row[\"MP\"] <= val), 1)\n",
    "    score = (row[\"Dribbles_reussis\"] + row[\"Dribles_passes\"]) / 2\n",
    "    return round(score * coef)\n",
    "\n",
    "## Notes par stats \n",
    "atq[\"Tir\"]=atq.apply(calculate_score_atq_tir, axis=1)\n",
    "atq[\"Block\"]=atq.apply(calculate_score_atq_block, axis=1)\n",
    "atq[\"Passe\"]=atq.apply(calculate_score_atq_passe, axis=1)\n",
    "atq[\"Dribbles\"]=atq.apply(calculate_score_atq_dribble, axis=1)\n",
    "\n",
    "##Note finale \n",
    "\n",
    "atq[\"Note Finale\"] = round((atq[[\"Tir\", \"Block\", \"Passe\", \"Dribbles\"]].mean(axis=1)))"
   ]
  },
  {
   "cell_type": "code",
   "execution_count": 8,
   "id": "5b728827-6159-425d-89a5-73298e7c5cce",
   "metadata": {},
   "outputs": [],
   "source": [
    "Stats_milieu = atq.drop(columns=[\"G/90\",\"G/Sh\",\"G/SoT\",\"PKGoals\",\"PKAttempted\",\"Goals\",\"Pass\",\"PassCompleted\",\"PassComp%\",\"PasShoCmp%\",\"PasMedCmp%\",\"PasLonCmp%\",\"Assist\",\"Cross\",\"CrossCompleted\",\"CrossComp%\",\"Tackle_Won\",\"SucDribble\",\"Dribble\",\"DribbleComp%\",\"YCards\",\"RCards\",\"Fls\",\"Fld\",\"OGoals\",\"AerWon\",\"AerLost\",\"AerWon%\",\"AerLost\",\"AerLost%\",\"PasswHead\",\"PasswHead%\",\"PKwon\",\"but_par_tir\",\"but_par_tir_cadre\",\"but_par_90min\",\"BlockPasse\",\"BlockTir\",\"Blocks\",\"BlkShSv\",\"BlkSh\",\"pass_short_comp\",\"pass_medium_comp\",\"pass_long_comp\",\"DribblePast%\",\"Dribbles_reussis\",\"Dribles_passes\"])"
   ]
  },
  {
   "cell_type": "code",
   "execution_count": 9,
   "id": "c5f114a0-f929-4614-ae06-b21f9b46794f",
   "metadata": {},
   "outputs": [
    {
     "data": {
      "text/html": [
       "<div>\n",
       "<style scoped>\n",
       "    .dataframe tbody tr th:only-of-type {\n",
       "        vertical-align: middle;\n",
       "    }\n",
       "\n",
       "    .dataframe tbody tr th {\n",
       "        vertical-align: top;\n",
       "    }\n",
       "\n",
       "    .dataframe thead th {\n",
       "        text-align: right;\n",
       "    }\n",
       "</style>\n",
       "<table border=\"1\" class=\"dataframe\">\n",
       "  <thead>\n",
       "    <tr style=\"text-align: right;\">\n",
       "      <th></th>\n",
       "      <th>Player</th>\n",
       "      <th>Nation</th>\n",
       "      <th>Pos</th>\n",
       "      <th>Squad</th>\n",
       "      <th>Comp</th>\n",
       "      <th>Age</th>\n",
       "      <th>MP</th>\n",
       "      <th>Block</th>\n",
       "      <th>Tir</th>\n",
       "      <th>Passe</th>\n",
       "      <th>Dribbles</th>\n",
       "      <th>Note Finale</th>\n",
       "    </tr>\n",
       "  </thead>\n",
       "  <tbody>\n",
       "    <tr>\n",
       "      <th>1541</th>\n",
       "      <td>Manuel Locatelli</td>\n",
       "      <td>ITA</td>\n",
       "      <td>MF</td>\n",
       "      <td>Juventus</td>\n",
       "      <td>Serie A</td>\n",
       "      <td>24.0</td>\n",
       "      <td>31</td>\n",
       "      <td>93</td>\n",
       "      <td>87</td>\n",
       "      <td>73</td>\n",
       "      <td>66</td>\n",
       "      <td>80.0</td>\n",
       "    </tr>\n",
       "    <tr>\n",
       "      <th>538</th>\n",
       "      <td>Pathé Ciss</td>\n",
       "      <td>SEN</td>\n",
       "      <td>MF</td>\n",
       "      <td>Rayo Vallecano</td>\n",
       "      <td>La Liga</td>\n",
       "      <td>28.0</td>\n",
       "      <td>31</td>\n",
       "      <td>91</td>\n",
       "      <td>79</td>\n",
       "      <td>69</td>\n",
       "      <td>76</td>\n",
       "      <td>79.0</td>\n",
       "    </tr>\n",
       "    <tr>\n",
       "      <th>2651</th>\n",
       "      <td>Khéphren Thuram-Ulie</td>\n",
       "      <td>FRA</td>\n",
       "      <td>MF</td>\n",
       "      <td>Nice</td>\n",
       "      <td>Ligue 1</td>\n",
       "      <td>21.0</td>\n",
       "      <td>36</td>\n",
       "      <td>86</td>\n",
       "      <td>90</td>\n",
       "      <td>78</td>\n",
       "      <td>59</td>\n",
       "      <td>78.0</td>\n",
       "    </tr>\n",
       "    <tr>\n",
       "      <th>2331</th>\n",
       "      <td>Fabián Ruiz Peña</td>\n",
       "      <td>ESP</td>\n",
       "      <td>MF</td>\n",
       "      <td>Napoli</td>\n",
       "      <td>Serie A</td>\n",
       "      <td>26.0</td>\n",
       "      <td>32</td>\n",
       "      <td>61</td>\n",
       "      <td>91</td>\n",
       "      <td>87</td>\n",
       "      <td>60</td>\n",
       "      <td>75.0</td>\n",
       "    </tr>\n",
       "    <tr>\n",
       "      <th>1502</th>\n",
       "      <td>Mario Lemina</td>\n",
       "      <td>GAB</td>\n",
       "      <td>MF</td>\n",
       "      <td>Nice</td>\n",
       "      <td>Ligue 1</td>\n",
       "      <td>28.0</td>\n",
       "      <td>32</td>\n",
       "      <td>76</td>\n",
       "      <td>80</td>\n",
       "      <td>79</td>\n",
       "      <td>65</td>\n",
       "      <td>75.0</td>\n",
       "    </tr>\n",
       "    <tr>\n",
       "      <th>1369</th>\n",
       "      <td>Franck Kessié</td>\n",
       "      <td>CIV</td>\n",
       "      <td>MF</td>\n",
       "      <td>Milan</td>\n",
       "      <td>Serie A</td>\n",
       "      <td>25.0</td>\n",
       "      <td>31</td>\n",
       "      <td>79</td>\n",
       "      <td>87</td>\n",
       "      <td>78</td>\n",
       "      <td>56</td>\n",
       "      <td>75.0</td>\n",
       "    </tr>\n",
       "    <tr>\n",
       "      <th>276</th>\n",
       "      <td>Ismaël Bennacer</td>\n",
       "      <td>ALG</td>\n",
       "      <td>MF</td>\n",
       "      <td>Milan</td>\n",
       "      <td>Serie A</td>\n",
       "      <td>24.0</td>\n",
       "      <td>31</td>\n",
       "      <td>64</td>\n",
       "      <td>78</td>\n",
       "      <td>77</td>\n",
       "      <td>76</td>\n",
       "      <td>74.0</td>\n",
       "    </tr>\n",
       "    <tr>\n",
       "      <th>403</th>\n",
       "      <td>Sergio Busquets</td>\n",
       "      <td>ESP</td>\n",
       "      <td>MF</td>\n",
       "      <td>Barcelona</td>\n",
       "      <td>La Liga</td>\n",
       "      <td>33.0</td>\n",
       "      <td>36</td>\n",
       "      <td>72</td>\n",
       "      <td>79</td>\n",
       "      <td>83</td>\n",
       "      <td>60</td>\n",
       "      <td>74.0</td>\n",
       "    </tr>\n",
       "    <tr>\n",
       "      <th>2545</th>\n",
       "      <td>Djibril Sow</td>\n",
       "      <td>SUI</td>\n",
       "      <td>MF</td>\n",
       "      <td>Eint Frankfurt</td>\n",
       "      <td>Bundesliga</td>\n",
       "      <td>25.0</td>\n",
       "      <td>31</td>\n",
       "      <td>80</td>\n",
       "      <td>80</td>\n",
       "      <td>70</td>\n",
       "      <td>54</td>\n",
       "      <td>71.0</td>\n",
       "    </tr>\n",
       "    <tr>\n",
       "      <th>1292</th>\n",
       "      <td>Frenkie de Jong</td>\n",
       "      <td>NED</td>\n",
       "      <td>MF</td>\n",
       "      <td>Barcelona</td>\n",
       "      <td>La Liga</td>\n",
       "      <td>25.0</td>\n",
       "      <td>32</td>\n",
       "      <td>55</td>\n",
       "      <td>82</td>\n",
       "      <td>88</td>\n",
       "      <td>54</td>\n",
       "      <td>70.0</td>\n",
       "    </tr>\n",
       "    <tr>\n",
       "      <th>2292</th>\n",
       "      <td>Guido Rodríguez</td>\n",
       "      <td>ARG</td>\n",
       "      <td>MF</td>\n",
       "      <td>Betis</td>\n",
       "      <td>La Liga</td>\n",
       "      <td>28.0</td>\n",
       "      <td>32</td>\n",
       "      <td>88</td>\n",
       "      <td>56</td>\n",
       "      <td>77</td>\n",
       "      <td>58</td>\n",
       "      <td>70.0</td>\n",
       "    </tr>\n",
       "    <tr>\n",
       "      <th>2217</th>\n",
       "      <td>Jacob Ramsey</td>\n",
       "      <td>ENG</td>\n",
       "      <td>MF</td>\n",
       "      <td>Aston Villa</td>\n",
       "      <td>Premier League</td>\n",
       "      <td>21.0</td>\n",
       "      <td>34</td>\n",
       "      <td>71</td>\n",
       "      <td>90</td>\n",
       "      <td>77</td>\n",
       "      <td>42</td>\n",
       "      <td>70.0</td>\n",
       "    </tr>\n",
       "    <tr>\n",
       "      <th>1693</th>\n",
       "      <td>Omar Mascarell</td>\n",
       "      <td>ESP</td>\n",
       "      <td>MF</td>\n",
       "      <td>Elche</td>\n",
       "      <td>La Liga</td>\n",
       "      <td>29.0</td>\n",
       "      <td>32</td>\n",
       "      <td>91</td>\n",
       "      <td>50</td>\n",
       "      <td>81</td>\n",
       "      <td>60</td>\n",
       "      <td>70.0</td>\n",
       "    </tr>\n",
       "    <tr>\n",
       "      <th>1643</th>\n",
       "      <td>Thomas Mangani</td>\n",
       "      <td>FRA</td>\n",
       "      <td>MF</td>\n",
       "      <td>Angers</td>\n",
       "      <td>Ligue 1</td>\n",
       "      <td>35.0</td>\n",
       "      <td>33</td>\n",
       "      <td>82</td>\n",
       "      <td>81</td>\n",
       "      <td>52</td>\n",
       "      <td>64</td>\n",
       "      <td>70.0</td>\n",
       "    </tr>\n",
       "    <tr>\n",
       "      <th>475</th>\n",
       "      <td>William Carvalho</td>\n",
       "      <td>POR</td>\n",
       "      <td>MF</td>\n",
       "      <td>Betis</td>\n",
       "      <td>La Liga</td>\n",
       "      <td>30.0</td>\n",
       "      <td>33</td>\n",
       "      <td>68</td>\n",
       "      <td>64</td>\n",
       "      <td>82</td>\n",
       "      <td>64</td>\n",
       "      <td>70.0</td>\n",
       "    </tr>\n",
       "    <tr>\n",
       "      <th>1335</th>\n",
       "      <td>Boubacar Kamara</td>\n",
       "      <td>FRA</td>\n",
       "      <td>MFDF</td>\n",
       "      <td>Marseille</td>\n",
       "      <td>Ligue 1</td>\n",
       "      <td>22.0</td>\n",
       "      <td>34</td>\n",
       "      <td>74</td>\n",
       "      <td>62</td>\n",
       "      <td>88</td>\n",
       "      <td>52</td>\n",
       "      <td>69.0</td>\n",
       "    </tr>\n",
       "    <tr>\n",
       "      <th>1497</th>\n",
       "      <td>Lucas Leiva</td>\n",
       "      <td>BRA</td>\n",
       "      <td>MF</td>\n",
       "      <td>Lazio</td>\n",
       "      <td>Serie A</td>\n",
       "      <td>35.0</td>\n",
       "      <td>35</td>\n",
       "      <td>86</td>\n",
       "      <td>50</td>\n",
       "      <td>91</td>\n",
       "      <td>48</td>\n",
       "      <td>69.0</td>\n",
       "    </tr>\n",
       "    <tr>\n",
       "      <th>1213</th>\n",
       "      <td>Pierre Højbjerg</td>\n",
       "      <td>DEN</td>\n",
       "      <td>MF</td>\n",
       "      <td>Tottenham</td>\n",
       "      <td>Premier League</td>\n",
       "      <td>26.0</td>\n",
       "      <td>36</td>\n",
       "      <td>84</td>\n",
       "      <td>61</td>\n",
       "      <td>85</td>\n",
       "      <td>46</td>\n",
       "      <td>69.0</td>\n",
       "    </tr>\n",
       "    <tr>\n",
       "      <th>1844</th>\n",
       "      <td>Manu Morlanes</td>\n",
       "      <td>ESP</td>\n",
       "      <td>MF</td>\n",
       "      <td>Espanyol</td>\n",
       "      <td>La Liga</td>\n",
       "      <td>23.0</td>\n",
       "      <td>27</td>\n",
       "      <td>68</td>\n",
       "      <td>78</td>\n",
       "      <td>63</td>\n",
       "      <td>68</td>\n",
       "      <td>69.0</td>\n",
       "    </tr>\n",
       "    <tr>\n",
       "      <th>987</th>\n",
       "      <td>Gerson</td>\n",
       "      <td>BRA</td>\n",
       "      <td>MFFW</td>\n",
       "      <td>Marseille</td>\n",
       "      <td>Ligue 1</td>\n",
       "      <td>25.0</td>\n",
       "      <td>35</td>\n",
       "      <td>62</td>\n",
       "      <td>90</td>\n",
       "      <td>85</td>\n",
       "      <td>40</td>\n",
       "      <td>69.0</td>\n",
       "    </tr>\n",
       "  </tbody>\n",
       "</table>\n",
       "</div>"
      ],
      "text/plain": [
       "                    Player Nation   Pos           Squad            Comp   Age  \\\n",
       "1541      Manuel Locatelli    ITA    MF        Juventus         Serie A  24.0   \n",
       "538             Pathé Ciss    SEN    MF  Rayo Vallecano         La Liga  28.0   \n",
       "2651  Khéphren Thuram-Ulie    FRA    MF            Nice         Ligue 1  21.0   \n",
       "2331      Fabián Ruiz Peña    ESP    MF          Napoli         Serie A  26.0   \n",
       "1502          Mario Lemina    GAB    MF            Nice         Ligue 1  28.0   \n",
       "1369         Franck Kessié    CIV    MF           Milan         Serie A  25.0   \n",
       "276        Ismaël Bennacer    ALG    MF           Milan         Serie A  24.0   \n",
       "403        Sergio Busquets    ESP    MF       Barcelona         La Liga  33.0   \n",
       "2545           Djibril Sow    SUI    MF  Eint Frankfurt      Bundesliga  25.0   \n",
       "1292       Frenkie de Jong    NED    MF       Barcelona         La Liga  25.0   \n",
       "2292       Guido Rodríguez    ARG    MF           Betis         La Liga  28.0   \n",
       "2217          Jacob Ramsey    ENG    MF     Aston Villa  Premier League  21.0   \n",
       "1693        Omar Mascarell    ESP    MF           Elche         La Liga  29.0   \n",
       "1643        Thomas Mangani    FRA    MF          Angers         Ligue 1  35.0   \n",
       "475       William Carvalho    POR    MF           Betis         La Liga  30.0   \n",
       "1335       Boubacar Kamara    FRA  MFDF       Marseille         Ligue 1  22.0   \n",
       "1497           Lucas Leiva    BRA    MF           Lazio         Serie A  35.0   \n",
       "1213       Pierre Højbjerg    DEN    MF       Tottenham  Premier League  26.0   \n",
       "1844         Manu Morlanes    ESP    MF        Espanyol         La Liga  23.0   \n",
       "987                 Gerson    BRA  MFFW       Marseille         Ligue 1  25.0   \n",
       "\n",
       "      MP  Block  Tir  Passe  Dribbles  Note Finale  \n",
       "1541  31     93   87     73        66         80.0  \n",
       "538   31     91   79     69        76         79.0  \n",
       "2651  36     86   90     78        59         78.0  \n",
       "2331  32     61   91     87        60         75.0  \n",
       "1502  32     76   80     79        65         75.0  \n",
       "1369  31     79   87     78        56         75.0  \n",
       "276   31     64   78     77        76         74.0  \n",
       "403   36     72   79     83        60         74.0  \n",
       "2545  31     80   80     70        54         71.0  \n",
       "1292  32     55   82     88        54         70.0  \n",
       "2292  32     88   56     77        58         70.0  \n",
       "2217  34     71   90     77        42         70.0  \n",
       "1693  32     91   50     81        60         70.0  \n",
       "1643  33     82   81     52        64         70.0  \n",
       "475   33     68   64     82        64         70.0  \n",
       "1335  34     74   62     88        52         69.0  \n",
       "1497  35     86   50     91        48         69.0  \n",
       "1213  36     84   61     85        46         69.0  \n",
       "1844  27     68   78     63        68         69.0  \n",
       "987   35     62   90     85        40         69.0  "
      ]
     },
     "execution_count": 9,
     "metadata": {},
     "output_type": "execute_result"
    }
   ],
   "source": [
    "Stats_milieu.sort_values('Note Finale', ascending = False).head(20)"
   ]
  },
  {
   "cell_type": "code",
   "execution_count": 10,
   "id": "907900f4-457b-4409-b13e-ce101501ae4d",
   "metadata": {},
   "outputs": [],
   "source": [
    "# Exporter le dataframe en CSV\n",
    "#atq.sort_values('Note Finale', ascending = False).to_csv('NotesMil.csv', index=False)"
   ]
  },
  {
   "cell_type": "code",
   "execution_count": 23,
   "id": "c9c6cd61-a0a5-471b-9a76-df5a33ce4a75",
   "metadata": {},
   "outputs": [
    {
     "name": "stderr",
     "output_type": "stream",
     "text": [
      "C:\\Users\\piazz\\AppData\\Local\\Temp\\ipykernel_6880\\1007520931.py:1: UserWarning:\n",
      "\n",
      "Boolean Series key will be reindexed to match DataFrame index.\n",
      "\n"
     ]
    }
   ],
   "source": [
    "jong = atq[(df_football_stats.Player == \"Manuel Locatelli\")]"
   ]
  },
  {
   "cell_type": "code",
   "execution_count": 30,
   "id": "31e9bfce-992b-424b-93c2-da090d823eec",
   "metadata": {},
   "outputs": [
    {
     "name": "stderr",
     "output_type": "stream",
     "text": [
      "C:\\Users\\piazz\\anaconda3\\lib\\site-packages\\plotly\\express\\_core.py:271: FutureWarning:\n",
      "\n",
      "The frame.append method is deprecated and will be removed from pandas in a future version. Use pandas.concat instead.\n",
      "\n"
     ]
    },
    {
     "data": {
      "application/vnd.plotly.v1+json": {
       "config": {
        "plotlyServerURL": "https://plot.ly"
       },
       "data": [
        {
         "fill": "toself",
         "hovertemplate": "r=%{r}<br>theta=%{theta}<extra></extra>",
         "legendgroup": "",
         "line": {
          "color": "#636efa",
          "dash": "solid"
         },
         "marker": {
          "symbol": "circle"
         },
         "mode": "lines",
         "name": "",
         "r": [
          87,
          93,
          73,
          66,
          87
         ],
         "showlegend": false,
         "subplot": "polar",
         "theta": [
          "Tir",
          "Block",
          "Passe",
          "Dribbles",
          "Tir"
         ],
         "type": "scatterpolar"
        }
       ],
       "layout": {
        "autosize": true,
        "legend": {
         "tracegroupgap": 0
        },
        "margin": {
         "t": 60
        },
        "polar": {
         "angularaxis": {
          "direction": "clockwise",
          "rotation": 90,
          "type": "category"
         },
         "domain": {
          "x": [
           0,
           1
          ],
          "y": [
           0,
           1
          ]
         },
         "radialaxis": {
          "autorange": true,
          "range": [
           0,
           93
          ],
          "type": "linear"
         }
        },
        "template": {
         "data": {
          "bar": [
           {
            "error_x": {
             "color": "#2a3f5f"
            },
            "error_y": {
             "color": "#2a3f5f"
            },
            "marker": {
             "line": {
              "color": "#E5ECF6",
              "width": 0.5
             },
             "pattern": {
              "fillmode": "overlay",
              "size": 10,
              "solidity": 0.2
             }
            },
            "type": "bar"
           }
          ],
          "barpolar": [
           {
            "marker": {
             "line": {
              "color": "#E5ECF6",
              "width": 0.5
             },
             "pattern": {
              "fillmode": "overlay",
              "size": 10,
              "solidity": 0.2
             }
            },
            "type": "barpolar"
           }
          ],
          "carpet": [
           {
            "aaxis": {
             "endlinecolor": "#2a3f5f",
             "gridcolor": "white",
             "linecolor": "white",
             "minorgridcolor": "white",
             "startlinecolor": "#2a3f5f"
            },
            "baxis": {
             "endlinecolor": "#2a3f5f",
             "gridcolor": "white",
             "linecolor": "white",
             "minorgridcolor": "white",
             "startlinecolor": "#2a3f5f"
            },
            "type": "carpet"
           }
          ],
          "choropleth": [
           {
            "colorbar": {
             "outlinewidth": 0,
             "ticks": ""
            },
            "type": "choropleth"
           }
          ],
          "contour": [
           {
            "colorbar": {
             "outlinewidth": 0,
             "ticks": ""
            },
            "colorscale": [
             [
              0,
              "#0d0887"
             ],
             [
              0.1111111111111111,
              "#46039f"
             ],
             [
              0.2222222222222222,
              "#7201a8"
             ],
             [
              0.3333333333333333,
              "#9c179e"
             ],
             [
              0.4444444444444444,
              "#bd3786"
             ],
             [
              0.5555555555555556,
              "#d8576b"
             ],
             [
              0.6666666666666666,
              "#ed7953"
             ],
             [
              0.7777777777777778,
              "#fb9f3a"
             ],
             [
              0.8888888888888888,
              "#fdca26"
             ],
             [
              1,
              "#f0f921"
             ]
            ],
            "type": "contour"
           }
          ],
          "contourcarpet": [
           {
            "colorbar": {
             "outlinewidth": 0,
             "ticks": ""
            },
            "type": "contourcarpet"
           }
          ],
          "heatmap": [
           {
            "colorbar": {
             "outlinewidth": 0,
             "ticks": ""
            },
            "colorscale": [
             [
              0,
              "#0d0887"
             ],
             [
              0.1111111111111111,
              "#46039f"
             ],
             [
              0.2222222222222222,
              "#7201a8"
             ],
             [
              0.3333333333333333,
              "#9c179e"
             ],
             [
              0.4444444444444444,
              "#bd3786"
             ],
             [
              0.5555555555555556,
              "#d8576b"
             ],
             [
              0.6666666666666666,
              "#ed7953"
             ],
             [
              0.7777777777777778,
              "#fb9f3a"
             ],
             [
              0.8888888888888888,
              "#fdca26"
             ],
             [
              1,
              "#f0f921"
             ]
            ],
            "type": "heatmap"
           }
          ],
          "heatmapgl": [
           {
            "colorbar": {
             "outlinewidth": 0,
             "ticks": ""
            },
            "colorscale": [
             [
              0,
              "#0d0887"
             ],
             [
              0.1111111111111111,
              "#46039f"
             ],
             [
              0.2222222222222222,
              "#7201a8"
             ],
             [
              0.3333333333333333,
              "#9c179e"
             ],
             [
              0.4444444444444444,
              "#bd3786"
             ],
             [
              0.5555555555555556,
              "#d8576b"
             ],
             [
              0.6666666666666666,
              "#ed7953"
             ],
             [
              0.7777777777777778,
              "#fb9f3a"
             ],
             [
              0.8888888888888888,
              "#fdca26"
             ],
             [
              1,
              "#f0f921"
             ]
            ],
            "type": "heatmapgl"
           }
          ],
          "histogram": [
           {
            "marker": {
             "pattern": {
              "fillmode": "overlay",
              "size": 10,
              "solidity": 0.2
             }
            },
            "type": "histogram"
           }
          ],
          "histogram2d": [
           {
            "colorbar": {
             "outlinewidth": 0,
             "ticks": ""
            },
            "colorscale": [
             [
              0,
              "#0d0887"
             ],
             [
              0.1111111111111111,
              "#46039f"
             ],
             [
              0.2222222222222222,
              "#7201a8"
             ],
             [
              0.3333333333333333,
              "#9c179e"
             ],
             [
              0.4444444444444444,
              "#bd3786"
             ],
             [
              0.5555555555555556,
              "#d8576b"
             ],
             [
              0.6666666666666666,
              "#ed7953"
             ],
             [
              0.7777777777777778,
              "#fb9f3a"
             ],
             [
              0.8888888888888888,
              "#fdca26"
             ],
             [
              1,
              "#f0f921"
             ]
            ],
            "type": "histogram2d"
           }
          ],
          "histogram2dcontour": [
           {
            "colorbar": {
             "outlinewidth": 0,
             "ticks": ""
            },
            "colorscale": [
             [
              0,
              "#0d0887"
             ],
             [
              0.1111111111111111,
              "#46039f"
             ],
             [
              0.2222222222222222,
              "#7201a8"
             ],
             [
              0.3333333333333333,
              "#9c179e"
             ],
             [
              0.4444444444444444,
              "#bd3786"
             ],
             [
              0.5555555555555556,
              "#d8576b"
             ],
             [
              0.6666666666666666,
              "#ed7953"
             ],
             [
              0.7777777777777778,
              "#fb9f3a"
             ],
             [
              0.8888888888888888,
              "#fdca26"
             ],
             [
              1,
              "#f0f921"
             ]
            ],
            "type": "histogram2dcontour"
           }
          ],
          "mesh3d": [
           {
            "colorbar": {
             "outlinewidth": 0,
             "ticks": ""
            },
            "type": "mesh3d"
           }
          ],
          "parcoords": [
           {
            "line": {
             "colorbar": {
              "outlinewidth": 0,
              "ticks": ""
             }
            },
            "type": "parcoords"
           }
          ],
          "pie": [
           {
            "automargin": true,
            "type": "pie"
           }
          ],
          "scatter": [
           {
            "marker": {
             "colorbar": {
              "outlinewidth": 0,
              "ticks": ""
             }
            },
            "type": "scatter"
           }
          ],
          "scatter3d": [
           {
            "line": {
             "colorbar": {
              "outlinewidth": 0,
              "ticks": ""
             }
            },
            "marker": {
             "colorbar": {
              "outlinewidth": 0,
              "ticks": ""
             }
            },
            "type": "scatter3d"
           }
          ],
          "scattercarpet": [
           {
            "marker": {
             "colorbar": {
              "outlinewidth": 0,
              "ticks": ""
             }
            },
            "type": "scattercarpet"
           }
          ],
          "scattergeo": [
           {
            "marker": {
             "colorbar": {
              "outlinewidth": 0,
              "ticks": ""
             }
            },
            "type": "scattergeo"
           }
          ],
          "scattergl": [
           {
            "marker": {
             "colorbar": {
              "outlinewidth": 0,
              "ticks": ""
             }
            },
            "type": "scattergl"
           }
          ],
          "scattermapbox": [
           {
            "marker": {
             "colorbar": {
              "outlinewidth": 0,
              "ticks": ""
             }
            },
            "type": "scattermapbox"
           }
          ],
          "scatterpolar": [
           {
            "marker": {
             "colorbar": {
              "outlinewidth": 0,
              "ticks": ""
             }
            },
            "type": "scatterpolar"
           }
          ],
          "scatterpolargl": [
           {
            "marker": {
             "colorbar": {
              "outlinewidth": 0,
              "ticks": ""
             }
            },
            "type": "scatterpolargl"
           }
          ],
          "scatterternary": [
           {
            "marker": {
             "colorbar": {
              "outlinewidth": 0,
              "ticks": ""
             }
            },
            "type": "scatterternary"
           }
          ],
          "surface": [
           {
            "colorbar": {
             "outlinewidth": 0,
             "ticks": ""
            },
            "colorscale": [
             [
              0,
              "#0d0887"
             ],
             [
              0.1111111111111111,
              "#46039f"
             ],
             [
              0.2222222222222222,
              "#7201a8"
             ],
             [
              0.3333333333333333,
              "#9c179e"
             ],
             [
              0.4444444444444444,
              "#bd3786"
             ],
             [
              0.5555555555555556,
              "#d8576b"
             ],
             [
              0.6666666666666666,
              "#ed7953"
             ],
             [
              0.7777777777777778,
              "#fb9f3a"
             ],
             [
              0.8888888888888888,
              "#fdca26"
             ],
             [
              1,
              "#f0f921"
             ]
            ],
            "type": "surface"
           }
          ],
          "table": [
           {
            "cells": {
             "fill": {
              "color": "#EBF0F8"
             },
             "line": {
              "color": "white"
             }
            },
            "header": {
             "fill": {
              "color": "#C8D4E3"
             },
             "line": {
              "color": "white"
             }
            },
            "type": "table"
           }
          ]
         },
         "layout": {
          "annotationdefaults": {
           "arrowcolor": "#2a3f5f",
           "arrowhead": 0,
           "arrowwidth": 1
          },
          "autotypenumbers": "strict",
          "coloraxis": {
           "colorbar": {
            "outlinewidth": 0,
            "ticks": ""
           }
          },
          "colorscale": {
           "diverging": [
            [
             0,
             "#8e0152"
            ],
            [
             0.1,
             "#c51b7d"
            ],
            [
             0.2,
             "#de77ae"
            ],
            [
             0.3,
             "#f1b6da"
            ],
            [
             0.4,
             "#fde0ef"
            ],
            [
             0.5,
             "#f7f7f7"
            ],
            [
             0.6,
             "#e6f5d0"
            ],
            [
             0.7,
             "#b8e186"
            ],
            [
             0.8,
             "#7fbc41"
            ],
            [
             0.9,
             "#4d9221"
            ],
            [
             1,
             "#276419"
            ]
           ],
           "sequential": [
            [
             0,
             "#0d0887"
            ],
            [
             0.1111111111111111,
             "#46039f"
            ],
            [
             0.2222222222222222,
             "#7201a8"
            ],
            [
             0.3333333333333333,
             "#9c179e"
            ],
            [
             0.4444444444444444,
             "#bd3786"
            ],
            [
             0.5555555555555556,
             "#d8576b"
            ],
            [
             0.6666666666666666,
             "#ed7953"
            ],
            [
             0.7777777777777778,
             "#fb9f3a"
            ],
            [
             0.8888888888888888,
             "#fdca26"
            ],
            [
             1,
             "#f0f921"
            ]
           ],
           "sequentialminus": [
            [
             0,
             "#0d0887"
            ],
            [
             0.1111111111111111,
             "#46039f"
            ],
            [
             0.2222222222222222,
             "#7201a8"
            ],
            [
             0.3333333333333333,
             "#9c179e"
            ],
            [
             0.4444444444444444,
             "#bd3786"
            ],
            [
             0.5555555555555556,
             "#d8576b"
            ],
            [
             0.6666666666666666,
             "#ed7953"
            ],
            [
             0.7777777777777778,
             "#fb9f3a"
            ],
            [
             0.8888888888888888,
             "#fdca26"
            ],
            [
             1,
             "#f0f921"
            ]
           ]
          },
          "colorway": [
           "#636efa",
           "#EF553B",
           "#00cc96",
           "#ab63fa",
           "#FFA15A",
           "#19d3f3",
           "#FF6692",
           "#B6E880",
           "#FF97FF",
           "#FECB52"
          ],
          "font": {
           "color": "#2a3f5f"
          },
          "geo": {
           "bgcolor": "white",
           "lakecolor": "white",
           "landcolor": "#E5ECF6",
           "showlakes": true,
           "showland": true,
           "subunitcolor": "white"
          },
          "hoverlabel": {
           "align": "left"
          },
          "hovermode": "closest",
          "mapbox": {
           "style": "light"
          },
          "paper_bgcolor": "white",
          "plot_bgcolor": "#E5ECF6",
          "polar": {
           "angularaxis": {
            "gridcolor": "white",
            "linecolor": "white",
            "ticks": ""
           },
           "bgcolor": "#E5ECF6",
           "radialaxis": {
            "gridcolor": "white",
            "linecolor": "white",
            "ticks": ""
           }
          },
          "scene": {
           "xaxis": {
            "backgroundcolor": "#E5ECF6",
            "gridcolor": "white",
            "gridwidth": 2,
            "linecolor": "white",
            "showbackground": true,
            "ticks": "",
            "zerolinecolor": "white"
           },
           "yaxis": {
            "backgroundcolor": "#E5ECF6",
            "gridcolor": "white",
            "gridwidth": 2,
            "linecolor": "white",
            "showbackground": true,
            "ticks": "",
            "zerolinecolor": "white"
           },
           "zaxis": {
            "backgroundcolor": "#E5ECF6",
            "gridcolor": "white",
            "gridwidth": 2,
            "linecolor": "white",
            "showbackground": true,
            "ticks": "",
            "zerolinecolor": "white"
           }
          },
          "shapedefaults": {
           "line": {
            "color": "#2a3f5f"
           }
          },
          "ternary": {
           "aaxis": {
            "gridcolor": "white",
            "linecolor": "white",
            "ticks": ""
           },
           "baxis": {
            "gridcolor": "white",
            "linecolor": "white",
            "ticks": ""
           },
           "bgcolor": "#E5ECF6",
           "caxis": {
            "gridcolor": "white",
            "linecolor": "white",
            "ticks": ""
           }
          },
          "title": {
           "x": 0.05
          },
          "xaxis": {
           "automargin": true,
           "gridcolor": "white",
           "linecolor": "white",
           "ticks": "",
           "title": {
            "standoff": 15
           },
           "zerolinecolor": "white",
           "zerolinewidth": 2
          },
          "yaxis": {
           "automargin": true,
           "gridcolor": "white",
           "linecolor": "white",
           "ticks": "",
           "title": {
            "standoff": 15
           },
           "zerolinecolor": "white",
           "zerolinewidth": 2
          }
         }
        }
       }
      },
      "image/png": "[encoded data removed]",
      "text/html": [
       "<div>                            <div id=\"094813c0-710e-4c64-801a-d6d8adafc226\" class=\"plotly-graph-div\" style=\"height:525px; width:100%;\"></div>            <script type=\"text/javascript\">                require([\"plotly\"], function(Plotly) {                    window.PLOTLYENV=window.PLOTLYENV || {};                                    if (document.getElementById(\"094813c0-710e-4c64-801a-d6d8adafc226\")) {                    Plotly.newPlot(                        \"094813c0-710e-4c64-801a-d6d8adafc226\",                        [{\"hovertemplate\":\"r=%{r}<br>theta=%{theta}<extra></extra>\",\"legendgroup\":\"\",\"line\":{\"color\":\"#636efa\",\"dash\":\"solid\"},\"marker\":{\"symbol\":\"circle\"},\"mode\":\"lines\",\"name\":\"\",\"r\":[87,93,73,66,87],\"showlegend\":false,\"subplot\":\"polar\",\"theta\":[\"Tir\",\"Block\",\"Passe\",\"Dribbles\",\"Tir\"],\"type\":\"scatterpolar\",\"fill\":\"toself\"}],                        {\"template\":{\"data\":{\"bar\":[{\"error_x\":{\"color\":\"#2a3f5f\"},\"error_y\":{\"color\":\"#2a3f5f\"},\"marker\":{\"line\":{\"color\":\"#E5ECF6\",\"width\":0.5},\"pattern\":{\"fillmode\":\"overlay\",\"size\":10,\"solidity\":0.2}},\"type\":\"bar\"}],\"barpolar\":[{\"marker\":{\"line\":{\"color\":\"#E5ECF6\",\"width\":0.5},\"pattern\":{\"fillmode\":\"overlay\",\"size\":10,\"solidity\":0.2}},\"type\":\"barpolar\"}],\"carpet\":[{\"aaxis\":{\"endlinecolor\":\"#2a3f5f\",\"gridcolor\":\"white\",\"linecolor\":\"white\",\"minorgridcolor\":\"white\",\"startlinecolor\":\"#2a3f5f\"},\"baxis\":{\"endlinecolor\":\"#2a3f5f\",\"gridcolor\":\"white\",\"linecolor\":\"white\",\"minorgridcolor\":\"white\",\"startlinecolor\":\"#2a3f5f\"},\"type\":\"carpet\"}],\"choropleth\":[{\"colorbar\":{\"outlinewidth\":0,\"ticks\":\"\"},\"type\":\"choropleth\"}],\"contour\":[{\"colorbar\":{\"outlinewidth\":0,\"ticks\":\"\"},\"colorscale\":[[0.0,\"#0d0887\"],[0.1111111111111111,\"#46039f\"],[0.2222222222222222,\"#7201a8\"],[0.3333333333333333,\"#9c179e\"],[0.4444444444444444,\"#bd3786\"],[0.5555555555555556,\"#d8576b\"],[0.6666666666666666,\"#ed7953\"],[0.7777777777777778,\"#fb9f3a\"],[0.8888888888888888,\"#fdca26\"],[1.0,\"#f0f921\"]],\"type\":\"contour\"}],\"contourcarpet\":[{\"colorbar\":{\"outlinewidth\":0,\"ticks\":\"\"},\"type\":\"contourcarpet\"}],\"heatmap\":[{\"colorbar\":{\"outlinewidth\":0,\"ticks\":\"\"},\"colorscale\":[[0.0,\"#0d0887\"],[0.1111111111111111,\"#46039f\"],[0.2222222222222222,\"#7201a8\"],[0.3333333333333333,\"#9c179e\"],[0.4444444444444444,\"#bd3786\"],[0.5555555555555556,\"#d8576b\"],[0.6666666666666666,\"#ed7953\"],[0.7777777777777778,\"#fb9f3a\"],[0.8888888888888888,\"#fdca26\"],[1.0,\"#f0f921\"]],\"type\":\"heatmap\"}],\"heatmapgl\":[{\"colorbar\":{\"outlinewidth\":0,\"ticks\":\"\"},\"colorscale\":[[0.0,\"#0d0887\"],[0.1111111111111111,\"#46039f\"],[0.2222222222222222,\"#7201a8\"],[0.3333333333333333,\"#9c179e\"],[0.4444444444444444,\"#bd3786\"],[0.5555555555555556,\"#d8576b\"],[0.6666666666666666,\"#ed7953\"],[0.7777777777777778,\"#fb9f3a\"],[0.8888888888888888,\"#fdca26\"],[1.0,\"#f0f921\"]],\"type\":\"heatmapgl\"}],\"histogram\":[{\"marker\":{\"pattern\":{\"fillmode\":\"overlay\",\"size\":10,\"solidity\":0.2}},\"type\":\"histogram\"}],\"histogram2d\":[{\"colorbar\":{\"outlinewidth\":0,\"ticks\":\"\"},\"colorscale\":[[0.0,\"#0d0887\"],[0.1111111111111111,\"#46039f\"],[0.2222222222222222,\"#7201a8\"],[0.3333333333333333,\"#9c179e\"],[0.4444444444444444,\"#bd3786\"],[0.5555555555555556,\"#d8576b\"],[0.6666666666666666,\"#ed7953\"],[0.7777777777777778,\"#fb9f3a\"],[0.8888888888888888,\"#fdca26\"],[1.0,\"#f0f921\"]],\"type\":\"histogram2d\"}],\"histogram2dcontour\":[{\"colorbar\":{\"outlinewidth\":0,\"ticks\":\"\"},\"colorscale\":[[0.0,\"#0d0887\"],[0.1111111111111111,\"#46039f\"],[0.2222222222222222,\"#7201a8\"],[0.3333333333333333,\"#9c179e\"],[0.4444444444444444,\"#bd3786\"],[0.5555555555555556,\"#d8576b\"],[0.6666666666666666,\"#ed7953\"],[0.7777777777777778,\"#fb9f3a\"],[0.8888888888888888,\"#fdca26\"],[1.0,\"#f0f921\"]],\"type\":\"histogram2dcontour\"}],\"mesh3d\":[{\"colorbar\":{\"outlinewidth\":0,\"ticks\":\"\"},\"type\":\"mesh3d\"}],\"parcoords\":[{\"line\":{\"colorbar\":{\"outlinewidth\":0,\"ticks\":\"\"}},\"type\":\"parcoords\"}],\"pie\":[{\"automargin\":true,\"type\":\"pie\"}],\"scatter\":[{\"marker\":{\"colorbar\":{\"outlinewidth\":0,\"ticks\":\"\"}},\"type\":\"scatter\"}],\"scatter3d\":[{\"line\":{\"colorbar\":{\"outlinewidth\":0,\"ticks\":\"\"}},\"marker\":{\"colorbar\":{\"outlinewidth\":0,\"ticks\":\"\"}},\"type\":\"scatter3d\"}],\"scattercarpet\":[{\"marker\":{\"colorbar\":{\"outlinewidth\":0,\"ticks\":\"\"}},\"type\":\"scattercarpet\"}],\"scattergeo\":[{\"marker\":{\"colorbar\":{\"outlinewidth\":0,\"ticks\":\"\"}},\"type\":\"scattergeo\"}],\"scattergl\":[{\"marker\":{\"colorbar\":{\"outlinewidth\":0,\"ticks\":\"\"}},\"type\":\"scattergl\"}],\"scattermapbox\":[{\"marker\":{\"colorbar\":{\"outlinewidth\":0,\"ticks\":\"\"}},\"type\":\"scattermapbox\"}],\"scatterpolar\":[{\"marker\":{\"colorbar\":{\"outlinewidth\":0,\"ticks\":\"\"}},\"type\":\"scatterpolar\"}],\"scatterpolargl\":[{\"marker\":{\"colorbar\":{\"outlinewidth\":0,\"ticks\":\"\"}},\"type\":\"scatterpolargl\"}],\"scatterternary\":[{\"marker\":{\"colorbar\":{\"outlinewidth\":0,\"ticks\":\"\"}},\"type\":\"scatterternary\"}],\"surface\":[{\"colorbar\":{\"outlinewidth\":0,\"ticks\":\"\"},\"colorscale\":[[0.0,\"#0d0887\"],[0.1111111111111111,\"#46039f\"],[0.2222222222222222,\"#7201a8\"],[0.3333333333333333,\"#9c179e\"],[0.4444444444444444,\"#bd3786\"],[0.5555555555555556,\"#d8576b\"],[0.6666666666666666,\"#ed7953\"],[0.7777777777777778,\"#fb9f3a\"],[0.8888888888888888,\"#fdca26\"],[1.0,\"#f0f921\"]],\"type\":\"surface\"}],\"table\":[{\"cells\":{\"fill\":{\"color\":\"#EBF0F8\"},\"line\":{\"color\":\"white\"}},\"header\":{\"fill\":{\"color\":\"#C8D4E3\"},\"line\":{\"color\":\"white\"}},\"type\":\"table\"}]},\"layout\":{\"annotationdefaults\":{\"arrowcolor\":\"#2a3f5f\",\"arrowhead\":0,\"arrowwidth\":1},\"autotypenumbers\":\"strict\",\"coloraxis\":{\"colorbar\":{\"outlinewidth\":0,\"ticks\":\"\"}},\"colorscale\":{\"diverging\":[[0,\"#8e0152\"],[0.1,\"#c51b7d\"],[0.2,\"#de77ae\"],[0.3,\"#f1b6da\"],[0.4,\"#fde0ef\"],[0.5,\"#f7f7f7\"],[0.6,\"#e6f5d0\"],[0.7,\"#b8e186\"],[0.8,\"#7fbc41\"],[0.9,\"#4d9221\"],[1,\"#276419\"]],\"sequential\":[[0.0,\"#0d0887\"],[0.1111111111111111,\"#46039f\"],[0.2222222222222222,\"#7201a8\"],[0.3333333333333333,\"#9c179e\"],[0.4444444444444444,\"#bd3786\"],[0.5555555555555556,\"#d8576b\"],[0.6666666666666666,\"#ed7953\"],[0.7777777777777778,\"#fb9f3a\"],[0.8888888888888888,\"#fdca26\"],[1.0,\"#f0f921\"]],\"sequentialminus\":[[0.0,\"#0d0887\"],[0.1111111111111111,\"#46039f\"],[0.2222222222222222,\"#7201a8\"],[0.3333333333333333,\"#9c179e\"],[0.4444444444444444,\"#bd3786\"],[0.5555555555555556,\"#d8576b\"],[0.6666666666666666,\"#ed7953\"],[0.7777777777777778,\"#fb9f3a\"],[0.8888888888888888,\"#fdca26\"],[1.0,\"#f0f921\"]]},\"colorway\":[\"#636efa\",\"#EF553B\",\"#00cc96\",\"#ab63fa\",\"#FFA15A\",\"#19d3f3\",\"#FF6692\",\"#B6E880\",\"#FF97FF\",\"#FECB52\"],\"font\":{\"color\":\"#2a3f5f\"},\"geo\":{\"bgcolor\":\"white\",\"lakecolor\":\"white\",\"landcolor\":\"#E5ECF6\",\"showlakes\":true,\"showland\":true,\"subunitcolor\":\"white\"},\"hoverlabel\":{\"align\":\"left\"},\"hovermode\":\"closest\",\"mapbox\":{\"style\":\"light\"},\"paper_bgcolor\":\"white\",\"plot_bgcolor\":\"#E5ECF6\",\"polar\":{\"angularaxis\":{\"gridcolor\":\"white\",\"linecolor\":\"white\",\"ticks\":\"\"},\"bgcolor\":\"#E5ECF6\",\"radialaxis\":{\"gridcolor\":\"white\",\"linecolor\":\"white\",\"ticks\":\"\"}},\"scene\":{\"xaxis\":{\"backgroundcolor\":\"#E5ECF6\",\"gridcolor\":\"white\",\"gridwidth\":2,\"linecolor\":\"white\",\"showbackground\":true,\"ticks\":\"\",\"zerolinecolor\":\"white\"},\"yaxis\":{\"backgroundcolor\":\"#E5ECF6\",\"gridcolor\":\"white\",\"gridwidth\":2,\"linecolor\":\"white\",\"showbackground\":true,\"ticks\":\"\",\"zerolinecolor\":\"white\"},\"zaxis\":{\"backgroundcolor\":\"#E5ECF6\",\"gridcolor\":\"white\",\"gridwidth\":2,\"linecolor\":\"white\",\"showbackground\":true,\"ticks\":\"\",\"zerolinecolor\":\"white\"}},\"shapedefaults\":{\"line\":{\"color\":\"#2a3f5f\"}},\"ternary\":{\"aaxis\":{\"gridcolor\":\"white\",\"linecolor\":\"white\",\"ticks\":\"\"},\"baxis\":{\"gridcolor\":\"white\",\"linecolor\":\"white\",\"ticks\":\"\"},\"bgcolor\":\"#E5ECF6\",\"caxis\":{\"gridcolor\":\"white\",\"linecolor\":\"white\",\"ticks\":\"\"}},\"title\":{\"x\":0.05},\"xaxis\":{\"automargin\":true,\"gridcolor\":\"white\",\"linecolor\":\"white\",\"ticks\":\"\",\"title\":{\"standoff\":15},\"zerolinecolor\":\"white\",\"zerolinewidth\":2},\"yaxis\":{\"automargin\":true,\"gridcolor\":\"white\",\"linecolor\":\"white\",\"ticks\":\"\",\"title\":{\"standoff\":15},\"zerolinecolor\":\"white\",\"zerolinewidth\":2}}},\"polar\":{\"domain\":{\"x\":[0.0,1.0],\"y\":[0.0,1.0]},\"angularaxis\":{\"direction\":\"clockwise\",\"rotation\":90}},\"legend\":{\"tracegroupgap\":0},\"margin\":{\"t\":60}},                        {\"responsive\": true}                    ).then(function(){\n",
       "                            \n",
       "var gd = document.getElementById('094813c0-710e-4c64-801a-d6d8adafc226');\n",
       "var x = new MutationObserver(function (mutations, observer) {{\n",
       "        var display = window.getComputedStyle(gd).display;\n",
       "        if (!display || display === 'none') {{\n",
       "            console.log([gd, 'removed!']);\n",
       "            Plotly.purge(gd);\n",
       "            observer.disconnect();\n",
       "        }}\n",
       "}});\n",
       "\n",
       "// Listen for the removal of the full notebook cells\n",
       "var notebookContainer = gd.closest('#notebook-container');\n",
       "if (notebookContainer) {{\n",
       "    x.observe(notebookContainer, {childList: true});\n",
       "}}\n",
       "\n",
       "// Listen for the clearing of the current output cell\n",
       "var outputEl = gd.closest('.output');\n",
       "if (outputEl) {{\n",
       "    x.observe(outputEl, {childList: true});\n",
       "}}\n",
       "\n",
       "                        })                };                });            </script>        </div>"
      ]
     },
     "metadata": {},
     "output_type": "display_data"
    }
   ],
   "source": [
    "import plotly.express as px\n",
    "import pandas as pd\n",
    "rd = pd.DataFrame(dict(\n",
    "    r=[jong['Tir'].min(), jong['Block'].min(), jong['Passe'].min(),jong['Dribbles'].min()],\n",
    "    theta=['Tir','Block','Passe','Dribbles']))\n",
    "fig = px.line_polar(rd, r='r', theta='theta', line_close=True)\n",
    "fig.update_traces(fill='toself')\n",
    "fig.show()"
   ]
  },
  {
   "cell_type": "code",
   "execution_count": null,
   "id": "4ae7d452-dd3f-4031-a358-98bde43e2c41",
   "metadata": {},
   "outputs": [],
   "source": []
  }
 ],
 "metadata": {
  "kernelspec": {
   "display_name": "Python 3 (ipykernel)",
   "language": "python",
   "name": "python3"
  },
  "language_info": {
   "codemirror_mode": {
    "name": "ipython",
    "version": 3
   },
   "file_extension": ".py",
   "mimetype": "text/x-python",
   "name": "python",
   "nbconvert_exporter": "python",
   "pygments_lexer": "ipython3",
   "version": "3.9.12"
  }
 },
 "nbformat": 4,
 "nbformat_minor": 5
}
